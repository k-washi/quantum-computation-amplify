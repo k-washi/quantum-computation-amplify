{
 "metadata": {
  "language_info": {
   "codemirror_mode": {
    "name": "ipython",
    "version": 3
   },
   "file_extension": ".py",
   "mimetype": "text/x-python",
   "name": "python",
   "nbconvert_exporter": "python",
   "pygments_lexer": "ipython3",
   "version": "3.8.5-final"
  },
  "orig_nbformat": 2,
  "kernelspec": {
   "name": "python3",
   "display_name": "Python 3.8.5 64-bit ('qc-amplify')",
   "metadata": {
    "interpreter": {
     "hash": "5dbd48c92039203db630d826d1660e1252192ee72b073500530e925130b830a1"
    }
   }
  }
 },
 "nbformat": 4,
 "nbformat_minor": 2,
 "cells": [
  {
   "cell_type": "code",
   "execution_count": 1,
   "metadata": {},
   "outputs": [],
   "source": [
    "from utils.setting import get_amplify_token\n",
    "dotenv_path = \"../.env\"\n",
    "amplify_token = get_amplify_token(dotenv_path)"
   ]
  },
  {
   "cell_type": "code",
   "execution_count": 5,
   "metadata": {},
   "outputs": [],
   "source": [
    "from amplify import BinaryPoly, gen_symbols, sum_poly, BinaryQuadraticModel, Solver, decode_solution\n",
    "from amplify.constraint import equal_to, less_equal, greater_equal\n",
    "from amplify.client import FixstarsClient"
   ]
  },
  {
   "cell_type": "code",
   "execution_count": 3,
   "metadata": {},
   "outputs": [],
   "source": [
    "a = [3, 4, 6, 1, 5]\n",
    "c = [6, 7, 8, 1, 4]"
   ]
  },
  {
   "cell_type": "code",
   "execution_count": 4,
   "metadata": {},
   "outputs": [],
   "source": [
    "MAX_ITEM = 5"
   ]
  },
  {
   "cell_type": "code",
   "execution_count": 6,
   "metadata": {},
   "outputs": [],
   "source": [
    "q = gen_symbols(BinaryPoly, MAX_ITEM)"
   ]
  },
  {
   "cell_type": "code",
   "execution_count": 7,
   "metadata": {},
   "outputs": [
    {
     "output_type": "stream",
     "name": "stdout",
     "text": [
      "[q_0, q_1, q_2, q_3, q_4]\n"
     ]
    }
   ],
   "source": [
    "print(q)"
   ]
  },
  {
   "cell_type": "code",
   "execution_count": 12,
   "metadata": {},
   "outputs": [],
   "source": [
    "constraint_f = sum_poly(len(a), lambda i: q[i] * a[i])"
   ]
  },
  {
   "cell_type": "code",
   "execution_count": 13,
   "metadata": {},
   "outputs": [],
   "source": [
    "constraint = less_equal(constraint_f, 12)"
   ]
  },
  {
   "cell_type": "code",
   "execution_count": 14,
   "metadata": {},
   "outputs": [
    {
     "output_type": "stream",
     "name": "stdout",
     "text": [
      "3.000000 q_0 + 4.000000 q_1 + 6.000000 q_2 + q_3 + 5.000000 q_4 <= 12\n"
     ]
    }
   ],
   "source": [
    "print(constraint)"
   ]
  },
  {
   "cell_type": "code",
   "execution_count": 16,
   "metadata": {},
   "outputs": [],
   "source": [
    "cost = - sum([q_j * c[i] for i, q_j in enumerate(q)])"
   ]
  },
  {
   "cell_type": "code",
   "execution_count": 17,
   "metadata": {},
   "outputs": [
    {
     "output_type": "stream",
     "name": "stdout",
     "text": [
      "- 6.000000 q_0 - 7.000000 q_1 - 8.000000 q_2 - q_3 - 4.000000 q_4\n"
     ]
    }
   ],
   "source": [
    "print(cost)"
   ]
  },
  {
   "cell_type": "code",
   "execution_count": 32,
   "metadata": {},
   "outputs": [],
   "source": [
    "# constraintは絶対発生させる\n",
    "# その中でlossを最小化したいので、costに0.01を欠ける。\n",
    "loss = 0.01 * cost + constraint"
   ]
  },
  {
   "cell_type": "code",
   "execution_count": 33,
   "metadata": {},
   "outputs": [
    {
     "output_type": "stream",
     "name": "stdout",
     "text": [
      "- 0.060000 q_0 - 0.070000 q_1 - 0.080000 q_2 - 0.010000 q_3 - 0.040000 q_4\n[(3.000000 q_0 + 4.000000 q_1 + 6.000000 q_2 + q_3 + 5.000000 q_4 <= 12, 1)]\n"
     ]
    }
   ],
   "source": [
    "print(loss.input_poly)\n",
    "print(loss.input_constraints)"
   ]
  },
  {
   "cell_type": "code",
   "execution_count": 34,
   "metadata": {},
   "outputs": [],
   "source": [
    "client = FixstarsClient()\n",
    "client.token = amplify_token\n",
    "client.parameters.timeout = 1000\n",
    "client.parameters.outputs.duplicate = True\n",
    "\n",
    "solver = Solver(client)"
   ]
  },
  {
   "cell_type": "code",
   "execution_count": 35,
   "metadata": {},
   "outputs": [
    {
     "output_type": "execute_result",
     "data": {
      "text/plain": [
       "1"
      ]
     },
     "metadata": {},
     "execution_count": 35
    }
   ],
   "source": [
    "result = solver.solve(loss)\n",
    "len(result)"
   ]
  },
  {
   "cell_type": "code",
   "execution_count": 36,
   "metadata": {},
   "outputs": [
    {
     "output_type": "stream",
     "name": "stdout",
     "text": [
      "-0.17\n{4: 1, 0: 1, 3: 0, 2: 0, 1: 1}\n[1, 1, 0, 0, 1]\n"
     ]
    }
   ],
   "source": [
    "for r in result:\n",
    "    print(r.energy)\n",
    "    print(r.values)\n",
    "    print(decode_solution(q, r.values))\n",
    "\n"
   ]
  },
  {
   "cell_type": "code",
   "execution_count": null,
   "metadata": {},
   "outputs": [],
   "source": []
  }
 ]
}