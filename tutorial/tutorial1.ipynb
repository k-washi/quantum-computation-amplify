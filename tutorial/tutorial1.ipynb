{
 "metadata": {
  "language_info": {
   "codemirror_mode": {
    "name": "ipython",
    "version": 3
   },
   "file_extension": ".py",
   "mimetype": "text/x-python",
   "name": "python",
   "nbconvert_exporter": "python",
   "pygments_lexer": "ipython3",
   "version": "3.8.5-final"
  },
  "orig_nbformat": 2,
  "kernelspec": {
   "name": "python3",
   "display_name": "Python 3.8.5 64-bit ('qc-amplify')",
   "metadata": {
    "interpreter": {
     "hash": "5dbd48c92039203db630d826d1660e1252192ee72b073500530e925130b830a1"
    }
   }
  }
 },
 "nbformat": 4,
 "nbformat_minor": 2,
 "cells": [
  {
   "cell_type": "code",
   "execution_count": 1,
   "metadata": {},
   "outputs": [],
   "source": [
    "from utils.setting import get_amplify_token\n",
    "dotenv_path = \"../.env\"\n",
    "amplify_token = get_amplify_token(dotenv_path)"
   ]
  },
  {
   "source": [
    "f(q_0, q_1) = 1 - q_0 * q_1"
   ],
   "cell_type": "markdown",
   "metadata": {}
  },
  {
   "source": [
    "# 入力模型の作成"
   ],
   "cell_type": "markdown",
   "metadata": {}
  },
  {
   "cell_type": "code",
   "execution_count": 2,
   "metadata": {},
   "outputs": [],
   "source": [
    "from amplify import BinaryPoly, gen_symbols"
   ]
  },
  {
   "cell_type": "code",
   "execution_count": 3,
   "metadata": {},
   "outputs": [
    {
     "output_type": "stream",
     "name": "stdout",
     "text": [
      "[q_0, q_1]\n"
     ]
    }
   ],
   "source": [
    "# 変数配列の作成\n",
    "q = gen_symbols(BinaryPoly, 2)\n",
    "print(q)"
   ]
  },
  {
   "cell_type": "code",
   "execution_count": 4,
   "metadata": {},
   "outputs": [
    {
     "output_type": "stream",
     "name": "stdout",
     "text": [
      "- q_0 q_1 + 1.000000\n"
     ]
    }
   ],
   "source": [
    "f = 1 - q[0] * q[1]\n",
    "print(f)"
   ]
  },
  {
   "source": [
    "# 論理模型への変換"
   ],
   "cell_type": "markdown",
   "metadata": {}
  },
  {
   "cell_type": "code",
   "execution_count": 5,
   "metadata": {},
   "outputs": [],
   "source": [
    "from amplify import BinaryQuadraticModel"
   ]
  },
  {
   "cell_type": "code",
   "execution_count": 6,
   "metadata": {},
   "outputs": [],
   "source": [
    "model = BinaryQuadraticModel(f)"
   ]
  },
  {
   "source": [
    "# 実行マシンの設定をし、実行"
   ],
   "cell_type": "markdown",
   "metadata": {}
  },
  {
   "cell_type": "code",
   "execution_count": 10,
   "metadata": {},
   "outputs": [],
   "source": [
    "from amplify import Solver\n",
    "from amplify.client import FixstarsClient"
   ]
  },
  {
   "cell_type": "code",
   "execution_count": 8,
   "metadata": {},
   "outputs": [],
   "source": [
    "client = FixstarsClient()\n",
    "client.token = amplify_token\n",
    "client.parameters.timeout = 1000"
   ]
  },
  {
   "cell_type": "code",
   "execution_count": 11,
   "metadata": {},
   "outputs": [
    {
     "output_type": "stream",
     "name": "stdout",
     "text": [
      "energy = 0.0\nvalues = {1: 1, 0: 1}\n"
     ]
    }
   ],
   "source": [
    "solver = Solver(client)\n",
    "result = solver.solve(model)\n",
    "for solution in result:\n",
    "    print(f\"energy = {solution.energy}\\nvalues = {solution.values}\")"
   ]
  },
  {
   "cell_type": "code",
   "execution_count": 12,
   "metadata": {},
   "outputs": [],
   "source": [
    "from amplify import decode_solution"
   ]
  },
  {
   "cell_type": "code",
   "execution_count": 14,
   "metadata": {},
   "outputs": [
    {
     "output_type": "stream",
     "name": "stdout",
     "text": [
      "q = [1, 1]\n"
     ]
    }
   ],
   "source": [
    "print(f\"q = {decode_solution(q, result[0].values)}\")"
   ]
  },
  {
   "cell_type": "code",
   "execution_count": null,
   "metadata": {},
   "outputs": [],
   "source": []
  }
 ]
}