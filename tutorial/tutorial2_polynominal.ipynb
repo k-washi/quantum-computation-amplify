{
 "metadata": {
  "language_info": {
   "codemirror_mode": {
    "name": "ipython",
    "version": 3
   },
   "file_extension": ".py",
   "mimetype": "text/x-python",
   "name": "python",
   "nbconvert_exporter": "python",
   "pygments_lexer": "ipython3",
   "version": "3.8.5-final"
  },
  "orig_nbformat": 2,
  "kernelspec": {
   "name": "python3",
   "display_name": "Python 3.8.5 64-bit ('qc-amplify')",
   "metadata": {
    "interpreter": {
     "hash": "5dbd48c92039203db630d826d1660e1252192ee72b073500530e925130b830a1"
    }
   }
  }
 },
 "nbformat": 4,
 "nbformat_minor": 2,
 "cells": [
  {
   "cell_type": "code",
   "execution_count": 1,
   "metadata": {},
   "outputs": [],
   "source": [
    "from utils.setting import get_amplify_token\n",
    "dotenv_path = \"../.env\"\n",
    "amplify_token = get_amplify_token(dotenv_path)"
   ]
  },
  {
   "source": [
    "Binaly変数 {0, 1}\n",
    "イジング変数 {-1, 1}"
   ],
   "cell_type": "markdown",
   "metadata": {}
  },
  {
   "cell_type": "code",
   "execution_count": 9,
   "metadata": {},
   "outputs": [],
   "source": [
    "from amplify import BinaryPoly, gen_symbols"
   ]
  },
  {
   "cell_type": "code",
   "execution_count": 4,
   "metadata": {},
   "outputs": [
    {
     "output_type": "stream",
     "name": "stdout",
     "text": [
      "2.000000 q_0 q_1 + q_0 + q_1 - 1.000000\n"
     ]
    }
   ],
   "source": [
    "#f = 2 * q_0 * q_1 + q_0 + q_1 - 1\n",
    "f = BinaryPoly({(0, 1): 2, (0): 1, (1): 1, (): -1})\n",
    "print(f)"
   ]
  },
  {
   "cell_type": "code",
   "execution_count": 6,
   "metadata": {},
   "outputs": [
    {
     "output_type": "stream",
     "name": "stdout",
     "text": [
      "2.000000 q_0 q_1 + q_0 + q_1 - 1.000000\n2.000000 q_0 q_1 + q_0 + q_1 - 1.000000\n"
     ]
    }
   ],
   "source": [
    "g = BinaryPoly(f)\n",
    "print(f)\n",
    "print(g)"
   ]
  },
  {
   "cell_type": "code",
   "execution_count": 7,
   "metadata": {},
   "outputs": [
    {
     "output_type": "stream",
     "name": "stdout",
     "text": [
      "2.000000 q_0 q_1 + q_0 + q_1\n4.000000 q_0 q_1 + 2.000000 q_0 + 2.000000 q_1 - 2.000000\n"
     ]
    }
   ],
   "source": [
    "print(f + 1)\n",
    "print(f + f)"
   ]
  },
  {
   "cell_type": "code",
   "execution_count": 10,
   "metadata": {},
   "outputs": [],
   "source": [
    "q = gen_symbols(BinaryPoly, 10)\n",
    "f = 2 * q[0] * q[1] + q[0] + q[1] - 1"
   ]
  },
  {
   "cell_type": "code",
   "execution_count": 11,
   "metadata": {},
   "outputs": [
    {
     "output_type": "stream",
     "name": "stdout",
     "text": [
      "[[q_0, q_1], [q_2, q_3]]\n[[q_4, q_5], [q_6, q_7]]\n"
     ]
    }
   ],
   "source": [
    "q_a = gen_symbols(BinaryPoly, 0, (2, 2))\n",
    "q_b = gen_symbols(BinaryPoly, 4, (2, 2))\n",
    "print(q_a)\n",
    "print(q_b)"
   ]
  },
  {
   "source": [
    "# 多項式の値を評価"
   ],
   "cell_type": "markdown",
   "metadata": {}
  },
  {
   "cell_type": "code",
   "execution_count": 12,
   "metadata": {},
   "outputs": [
    {
     "output_type": "stream",
     "name": "stdout",
     "text": [
      "2.000000 q_0 q_1 + q_0 + q_1 - 1.000000\n-3.0\n"
     ]
    }
   ],
   "source": [
    "q = gen_symbols(BinaryPoly, 10)\n",
    "f = 2 * q[0] * q[1] + q[0] + q[1] - 1\n",
    "print(f)\n",
    "print(f.replace_all({0:1, 1:-1}))"
   ]
  },
  {
   "cell_type": "code",
   "execution_count": 13,
   "metadata": {},
   "outputs": [
    {
     "output_type": "execute_result",
     "data": {
      "text/plain": [
       "9.0"
      ]
     },
     "metadata": {},
     "execution_count": 13
    }
   ],
   "source": [
    "f.replace_all(lambda i: 2 * i + 1)"
   ]
  },
  {
   "cell_type": "code",
   "execution_count": 14,
   "metadata": {},
   "outputs": [],
   "source": [
    "# Matrix"
   ]
  },
  {
   "cell_type": "code",
   "execution_count": 15,
   "metadata": {},
   "outputs": [],
   "source": [
    "from amplify import BinaryMatrix"
   ]
  },
  {
   "cell_type": "code",
   "execution_count": 17,
   "metadata": {},
   "outputs": [],
   "source": [
    "m = BinaryMatrix(3)\n",
    "m[0, 0] = -2\n",
    "m[0, 1] = 1\n",
    "m[1, 2] = -1\n",
    "m[2, 2] = 1"
   ]
  },
  {
   "cell_type": "code",
   "execution_count": 18,
   "metadata": {},
   "outputs": [
    {
     "output_type": "execute_result",
     "data": {
      "text/plain": [
       "q_0 q_1 - q_1 q_2 - 2.000000 q_0 + q_2"
      ]
     },
     "metadata": {},
     "execution_count": 18
    }
   ],
   "source": [
    "m.to_Poly()"
   ]
  },
  {
   "source": [
    "# 制約"
   ],
   "cell_type": "markdown",
   "metadata": {}
  },
  {
   "cell_type": "code",
   "execution_count": 20,
   "metadata": {},
   "outputs": [
    {
     "output_type": "stream",
     "name": "stdout",
     "text": [
      "- x_0 x_1 + 1\n"
     ]
    }
   ],
   "source": [
    "from amplify import LogicPoly\n",
    "\n",
    "# 両方1の時False, その他True\n",
    "x = gen_symbols(LogicPoly, 2)\n",
    "p = ~(x[0] & x[1])\n",
    "print(p)"
   ]
  },
  {
   "cell_type": "code",
   "execution_count": 21,
   "metadata": {},
   "outputs": [],
   "source": [
    "from amplify.constraint import penalty"
   ]
  },
  {
   "cell_type": "code",
   "execution_count": 22,
   "metadata": {},
   "outputs": [
    {
     "output_type": "stream",
     "name": "stdout",
     "text": [
      "q_0 q_1\nq_0 q_1 == 0\n"
     ]
    }
   ],
   "source": [
    "f = (~p).to_Poly()\n",
    "print(f)\n",
    "g = penalty(f)\n",
    "print(g)"
   ]
  },
  {
   "cell_type": "code",
   "execution_count": 23,
   "metadata": {},
   "outputs": [],
   "source": [
    "from amplify import (\n",
    "    BinaryQuadraticModel,\n",
    "    decode_solution,\n",
    "    gen_symbols,\n",
    "    LogicPoly,\n",
    "    Solver,\n",
    ")\n",
    "from amplify.client import FixstarsClient\n",
    "\n",
    "client = FixstarsClient()\n",
    "client.token = amplify_token\n",
    "client.parameters.timeout = 1000\n",
    "client.parameters.outputs.duplicate = True\n",
    "client.parameters.outputs.num_outputs = 0\n",
    "\n",
    "model = BinaryQuadraticModel(g)\n",
    "solver = Solver(client)\n",
    "result = solver.solve(model)\n"
   ]
  },
  {
   "cell_type": "code",
   "execution_count": 25,
   "metadata": {},
   "outputs": [
    {
     "output_type": "stream",
     "name": "stdout",
     "text": [
      "[0, 1]\n[1, 0]\n[0, 0]\n"
     ]
    }
   ],
   "source": [
    "for solution in result:\n",
    "    values = solution.values\n",
    "    print(decode_solution(x, values))"
   ]
  },
  {
   "source": [
    "# 制約条件"
   ],
   "cell_type": "markdown",
   "metadata": {}
  },
  {
   "cell_type": "code",
   "execution_count": 27,
   "metadata": {},
   "outputs": [
    {
     "output_type": "stream",
     "name": "stdout",
     "text": [
      "2.000000 q_0 q_1 q_2 + q_0 q_1 + q_0 + q_1 + q_2 - 1.000000\n[(q_0 + q_1 + q_2 == 1.000000, 1), (q_1 + q_2 + q_3 == 1.000000, 1)]\n"
     ]
    }
   ],
   "source": [
    "from amplify import BinaryPoly, BinaryQuadraticModel, gen_symbols, sum_poly\n",
    "from amplify.constraint import equal_to\n",
    "\n",
    "q = gen_symbols(BinaryPoly, 4)\n",
    "f = 2 * q[0] * q[1] * q[2] + q[0] * q[1] + q[0] + q[1] + q[2] - 1\n",
    "c1 = equal_to(sum_poly(q[:3]), 1)   # q_0 + q_1 + q_2 == 1\n",
    "c2 = equal_to(sum_poly(q[1:]), 1)   # q_1 + q_2 + q_3 == 1\n",
    "model = f + c1 + c2\n",
    "\n",
    "print(model.input_poly)\n",
    "print(model.input_constraints)"
   ]
  },
  {
   "cell_type": "code",
   "execution_count": null,
   "metadata": {},
   "outputs": [],
   "source": []
  }
 ]
}